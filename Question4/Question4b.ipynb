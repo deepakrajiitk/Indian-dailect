{
 "cells": [
  {
   "cell_type": "markdown",
   "metadata": {},
   "source": [
    "# Importing Libraries"
   ]
  },
  {
   "cell_type": "code",
   "execution_count": 35,
   "metadata": {},
   "outputs": [],
   "source": [
    "import pandas as pd"
   ]
  },
  {
   "cell_type": "code",
   "execution_count": 36,
   "metadata": {},
   "outputs": [],
   "source": [
    "df = pd.read_csv(\"cleaned_datafile.csv\")"
   ]
  },
  {
   "cell_type": "code",
   "execution_count": 37,
   "metadata": {},
   "outputs": [
    {
     "data": {
      "text/html": [
       "<div>\n",
       "<style scoped>\n",
       "    .dataframe tbody tr th:only-of-type {\n",
       "        vertical-align: middle;\n",
       "    }\n",
       "\n",
       "    .dataframe tbody tr th {\n",
       "        vertical-align: top;\n",
       "    }\n",
       "\n",
       "    .dataframe thead th {\n",
       "        text-align: right;\n",
       "    }\n",
       "</style>\n",
       "<table border=\"1\" class=\"dataframe\">\n",
       "  <thead>\n",
       "    <tr style=\"text-align: right;\">\n",
       "      <th></th>\n",
       "      <th>State-Code</th>\n",
       "      <th>Name</th>\n",
       "      <th>TRU</th>\n",
       "      <th>Age-Group</th>\n",
       "      <th>Tot-P</th>\n",
       "      <th>Tot-M</th>\n",
       "      <th>Tot-F</th>\n",
       "      <th>Persons-exactly-1</th>\n",
       "      <th>Males-exactly-1</th>\n",
       "      <th>Females-exactly-1</th>\n",
       "      <th>Persons-exactly-2</th>\n",
       "      <th>Males-exactly-2</th>\n",
       "      <th>Females-exactly-2</th>\n",
       "      <th>Persons-atleast-3</th>\n",
       "      <th>Males-atleast-3</th>\n",
       "      <th>Females-atleast-3</th>\n",
       "    </tr>\n",
       "  </thead>\n",
       "  <tbody>\n",
       "    <tr>\n",
       "      <th>0</th>\n",
       "      <td>0</td>\n",
       "      <td>INDIA</td>\n",
       "      <td>Rural</td>\n",
       "      <td>5-9</td>\n",
       "      <td>93807612</td>\n",
       "      <td>48825259</td>\n",
       "      <td>44982353</td>\n",
       "      <td>84515361</td>\n",
       "      <td>44009879</td>\n",
       "      <td>40505482</td>\n",
       "      <td>8619753</td>\n",
       "      <td>4459004</td>\n",
       "      <td>4160749</td>\n",
       "      <td>672498</td>\n",
       "      <td>356376</td>\n",
       "      <td>316122</td>\n",
       "    </tr>\n",
       "    <tr>\n",
       "      <th>1</th>\n",
       "      <td>0</td>\n",
       "      <td>INDIA</td>\n",
       "      <td>Rural</td>\n",
       "      <td>10-14</td>\n",
       "      <td>96804494</td>\n",
       "      <td>50488158</td>\n",
       "      <td>46316336</td>\n",
       "      <td>75843895</td>\n",
       "      <td>39482164</td>\n",
       "      <td>36361731</td>\n",
       "      <td>17321726</td>\n",
       "      <td>9076421</td>\n",
       "      <td>8245305</td>\n",
       "      <td>3638873</td>\n",
       "      <td>1929573</td>\n",
       "      <td>1709300</td>\n",
       "    </tr>\n",
       "    <tr>\n",
       "      <th>2</th>\n",
       "      <td>0</td>\n",
       "      <td>INDIA</td>\n",
       "      <td>Rural</td>\n",
       "      <td>15-19</td>\n",
       "      <td>83902472</td>\n",
       "      <td>44570557</td>\n",
       "      <td>39331915</td>\n",
       "      <td>59354806</td>\n",
       "      <td>31228261</td>\n",
       "      <td>28126545</td>\n",
       "      <td>17987978</td>\n",
       "      <td>9726204</td>\n",
       "      <td>8261774</td>\n",
       "      <td>6559688</td>\n",
       "      <td>3616092</td>\n",
       "      <td>2943596</td>\n",
       "    </tr>\n",
       "    <tr>\n",
       "      <th>3</th>\n",
       "      <td>0</td>\n",
       "      <td>INDIA</td>\n",
       "      <td>Rural</td>\n",
       "      <td>20-24</td>\n",
       "      <td>73835046</td>\n",
       "      <td>38138662</td>\n",
       "      <td>35696384</td>\n",
       "      <td>51929482</td>\n",
       "      <td>25958518</td>\n",
       "      <td>25970964</td>\n",
       "      <td>15939543</td>\n",
       "      <td>8730193</td>\n",
       "      <td>7209350</td>\n",
       "      <td>5966021</td>\n",
       "      <td>3449951</td>\n",
       "      <td>2516070</td>\n",
       "    </tr>\n",
       "    <tr>\n",
       "      <th>4</th>\n",
       "      <td>0</td>\n",
       "      <td>INDIA</td>\n",
       "      <td>Rural</td>\n",
       "      <td>25-29</td>\n",
       "      <td>66068270</td>\n",
       "      <td>33375989</td>\n",
       "      <td>32692281</td>\n",
       "      <td>48015316</td>\n",
       "      <td>23114804</td>\n",
       "      <td>24900512</td>\n",
       "      <td>13483541</td>\n",
       "      <td>7492507</td>\n",
       "      <td>5991034</td>\n",
       "      <td>4569413</td>\n",
       "      <td>2768678</td>\n",
       "      <td>1800735</td>\n",
       "    </tr>\n",
       "  </tbody>\n",
       "</table>\n",
       "</div>"
      ],
      "text/plain": [
       "   State-Code   Name    TRU Age-Group     Tot-P     Tot-M     Tot-F  \\\n",
       "0           0  INDIA  Rural       5-9  93807612  48825259  44982353   \n",
       "1           0  INDIA  Rural     10-14  96804494  50488158  46316336   \n",
       "2           0  INDIA  Rural     15-19  83902472  44570557  39331915   \n",
       "3           0  INDIA  Rural     20-24  73835046  38138662  35696384   \n",
       "4           0  INDIA  Rural     25-29  66068270  33375989  32692281   \n",
       "\n",
       "   Persons-exactly-1  Males-exactly-1  Females-exactly-1  Persons-exactly-2  \\\n",
       "0           84515361         44009879           40505482            8619753   \n",
       "1           75843895         39482164           36361731           17321726   \n",
       "2           59354806         31228261           28126545           17987978   \n",
       "3           51929482         25958518           25970964           15939543   \n",
       "4           48015316         23114804           24900512           13483541   \n",
       "\n",
       "   Males-exactly-2  Females-exactly-2  Persons-atleast-3  Males-atleast-3  \\\n",
       "0          4459004            4160749             672498           356376   \n",
       "1          9076421            8245305            3638873          1929573   \n",
       "2          9726204            8261774            6559688          3616092   \n",
       "3          8730193            7209350            5966021          3449951   \n",
       "4          7492507            5991034            4569413          2768678   \n",
       "\n",
       "   Females-atleast-3  \n",
       "0             316122  \n",
       "1            1709300  \n",
       "2            2943596  \n",
       "3            2516070  \n",
       "4            1800735  "
      ]
     },
     "execution_count": 37,
     "metadata": {},
     "output_type": "execute_result"
    }
   ],
   "source": [
    "df.head()"
   ]
  },
  {
   "cell_type": "markdown",
   "metadata": {},
   "source": [
    "# Dropping irrelevant rows and columns"
   ]
  },
  {
   "cell_type": "code",
   "execution_count": 38,
   "metadata": {},
   "outputs": [],
   "source": [
    "df = df[(df['TRU']=='Total') & (df['Age-Group']=='Total')]\n",
    "cols = ['State-Code','Persons-exactly-1','Persons-exactly-2','Persons-atleast-3']\n",
    "df = df[cols]"
   ]
  },
  {
   "cell_type": "code",
   "execution_count": 39,
   "metadata": {},
   "outputs": [
    {
     "data": {
      "text/html": [
       "<div>\n",
       "<style scoped>\n",
       "    .dataframe tbody tr th:only-of-type {\n",
       "        vertical-align: middle;\n",
       "    }\n",
       "\n",
       "    .dataframe tbody tr th {\n",
       "        vertical-align: top;\n",
       "    }\n",
       "\n",
       "    .dataframe thead th {\n",
       "        text-align: right;\n",
       "    }\n",
       "</style>\n",
       "<table border=\"1\" class=\"dataframe\">\n",
       "  <thead>\n",
       "    <tr style=\"text-align: right;\">\n",
       "      <th></th>\n",
       "      <th>State-Code</th>\n",
       "      <th>Persons-exactly-1</th>\n",
       "      <th>Persons-exactly-2</th>\n",
       "      <th>Persons-atleast-3</th>\n",
       "    </tr>\n",
       "  </thead>\n",
       "  <tbody>\n",
       "    <tr>\n",
       "      <th>18</th>\n",
       "      <td>0</td>\n",
       "      <td>895866207</td>\n",
       "      <td>228979190</td>\n",
       "      <td>86009580</td>\n",
       "    </tr>\n",
       "    <tr>\n",
       "      <th>48</th>\n",
       "      <td>1</td>\n",
       "      <td>6358112</td>\n",
       "      <td>4086970</td>\n",
       "      <td>2096220</td>\n",
       "    </tr>\n",
       "    <tr>\n",
       "      <th>78</th>\n",
       "      <td>2</td>\n",
       "      <td>5621897</td>\n",
       "      <td>895419</td>\n",
       "      <td>347286</td>\n",
       "    </tr>\n",
       "    <tr>\n",
       "      <th>108</th>\n",
       "      <td>3</td>\n",
       "      <td>14708114</td>\n",
       "      <td>5205311</td>\n",
       "      <td>7829913</td>\n",
       "    </tr>\n",
       "    <tr>\n",
       "      <th>138</th>\n",
       "      <td>4</td>\n",
       "      <td>475530</td>\n",
       "      <td>257941</td>\n",
       "      <td>321979</td>\n",
       "    </tr>\n",
       "  </tbody>\n",
       "</table>\n",
       "</div>"
      ],
      "text/plain": [
       "     State-Code  Persons-exactly-1  Persons-exactly-2  Persons-atleast-3\n",
       "18            0          895866207          228979190           86009580\n",
       "48            1            6358112            4086970            2096220\n",
       "78            2            5621897             895419             347286\n",
       "108           3           14708114            5205311            7829913\n",
       "138           4             475530             257941             321979"
      ]
     },
     "execution_count": 39,
     "metadata": {},
     "output_type": "execute_result"
    }
   ],
   "source": [
    "df.head()"
   ]
  },
  {
   "cell_type": "markdown",
   "metadata": {},
   "source": [
    "# Finding required ratios"
   ]
  },
  {
   "cell_type": "code",
   "execution_count": 40,
   "metadata": {},
   "outputs": [],
   "source": [
    "df2 = pd.DataFrame(columns=['state-code','2-to-1-ratio'])\n",
    "df2[['state-code']] = df[['State-Code']]\n",
    "df2['2-to-1-ratio'] = (df['Persons-exactly-2']/df['Persons-exactly-1'])"
   ]
  },
  {
   "cell_type": "code",
   "execution_count": 41,
   "metadata": {},
   "outputs": [
    {
     "data": {
      "text/html": [
       "<div>\n",
       "<style scoped>\n",
       "    .dataframe tbody tr th:only-of-type {\n",
       "        vertical-align: middle;\n",
       "    }\n",
       "\n",
       "    .dataframe tbody tr th {\n",
       "        vertical-align: top;\n",
       "    }\n",
       "\n",
       "    .dataframe thead th {\n",
       "        text-align: right;\n",
       "    }\n",
       "</style>\n",
       "<table border=\"1\" class=\"dataframe\">\n",
       "  <thead>\n",
       "    <tr style=\"text-align: right;\">\n",
       "      <th></th>\n",
       "      <th>state-code</th>\n",
       "      <th>2-to-1-ratio</th>\n",
       "    </tr>\n",
       "  </thead>\n",
       "  <tbody>\n",
       "    <tr>\n",
       "      <th>18</th>\n",
       "      <td>0</td>\n",
       "      <td>0.255595</td>\n",
       "    </tr>\n",
       "    <tr>\n",
       "      <th>48</th>\n",
       "      <td>1</td>\n",
       "      <td>0.642796</td>\n",
       "    </tr>\n",
       "    <tr>\n",
       "      <th>78</th>\n",
       "      <td>2</td>\n",
       "      <td>0.159273</td>\n",
       "    </tr>\n",
       "    <tr>\n",
       "      <th>108</th>\n",
       "      <td>3</td>\n",
       "      <td>0.353907</td>\n",
       "    </tr>\n",
       "    <tr>\n",
       "      <th>138</th>\n",
       "      <td>4</td>\n",
       "      <td>0.542428</td>\n",
       "    </tr>\n",
       "  </tbody>\n",
       "</table>\n",
       "</div>"
      ],
      "text/plain": [
       "     state-code  2-to-1-ratio\n",
       "18            0      0.255595\n",
       "48            1      0.642796\n",
       "78            2      0.159273\n",
       "108           3      0.353907\n",
       "138           4      0.542428"
      ]
     },
     "execution_count": 41,
     "metadata": {},
     "output_type": "execute_result"
    }
   ],
   "source": [
    "df2.head()"
   ]
  },
  {
   "cell_type": "code",
   "execution_count": 42,
   "metadata": {},
   "outputs": [],
   "source": [
    "df2_top2 = df2.sort_values('2-to-1-ratio',ascending=False).head(3)\n",
    "df2_worst2 = df2.sort_values('2-to-1-ratio').head(3)"
   ]
  },
  {
   "cell_type": "code",
   "execution_count": 43,
   "metadata": {},
   "outputs": [],
   "source": [
    "result2 = df2_top2.append(df2_worst2)[['state-code','2-to-1-ratio']]"
   ]
  },
  {
   "cell_type": "code",
   "execution_count": 44,
   "metadata": {},
   "outputs": [
    {
     "data": {
      "text/html": [
       "<div>\n",
       "<style scoped>\n",
       "    .dataframe tbody tr th:only-of-type {\n",
       "        vertical-align: middle;\n",
       "    }\n",
       "\n",
       "    .dataframe tbody tr th {\n",
       "        vertical-align: top;\n",
       "    }\n",
       "\n",
       "    .dataframe thead th {\n",
       "        text-align: right;\n",
       "    }\n",
       "</style>\n",
       "<table border=\"1\" class=\"dataframe\">\n",
       "  <thead>\n",
       "    <tr style=\"text-align: right;\">\n",
       "      <th></th>\n",
       "      <th>state-code</th>\n",
       "      <th>2-to-1-ratio</th>\n",
       "    </tr>\n",
       "  </thead>\n",
       "  <tbody>\n",
       "    <tr>\n",
       "      <th>1068</th>\n",
       "      <td>35</td>\n",
       "      <td>1.499862</td>\n",
       "    </tr>\n",
       "    <tr>\n",
       "      <th>918</th>\n",
       "      <td>30</td>\n",
       "      <td>1.157976</td>\n",
       "    </tr>\n",
       "    <tr>\n",
       "      <th>378</th>\n",
       "      <td>12</td>\n",
       "      <td>0.938953</td>\n",
       "    </tr>\n",
       "    <tr>\n",
       "      <th>258</th>\n",
       "      <td>8</td>\n",
       "      <td>0.105877</td>\n",
       "    </tr>\n",
       "    <tr>\n",
       "      <th>288</th>\n",
       "      <td>9</td>\n",
       "      <td>0.114661</td>\n",
       "    </tr>\n",
       "    <tr>\n",
       "      <th>678</th>\n",
       "      <td>22</td>\n",
       "      <td>0.133643</td>\n",
       "    </tr>\n",
       "  </tbody>\n",
       "</table>\n",
       "</div>"
      ],
      "text/plain": [
       "      state-code  2-to-1-ratio\n",
       "1068          35      1.499862\n",
       "918           30      1.157976\n",
       "378           12      0.938953\n",
       "258            8      0.105877\n",
       "288            9      0.114661\n",
       "678           22      0.133643"
      ]
     },
     "execution_count": 44,
     "metadata": {},
     "output_type": "execute_result"
    }
   ],
   "source": [
    "result2"
   ]
  },
  {
   "cell_type": "code",
   "execution_count": 45,
   "metadata": {},
   "outputs": [],
   "source": [
    "result2.to_csv(\"2-to-1-ratio.csv\",index = False)"
   ]
  }
 ],
 "metadata": {
  "interpreter": {
   "hash": "ac59ebe37160ed0dfa835113d9b8498d9f09ceb179beaac4002f036b9467c963"
  },
  "kernelspec": {
   "display_name": "Python 3.9.6 64-bit",
   "name": "python3"
  },
  "language_info": {
   "codemirror_mode": {
    "name": "ipython",
    "version": 3
   },
   "file_extension": ".py",
   "mimetype": "text/x-python",
   "name": "python",
   "nbconvert_exporter": "python",
   "pygments_lexer": "ipython3",
   "version": "3.10.0"
  },
  "orig_nbformat": 4
 },
 "nbformat": 4,
 "nbformat_minor": 2
}
