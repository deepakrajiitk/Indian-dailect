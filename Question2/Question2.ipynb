{
 "cells": [
  {
   "cell_type": "markdown",
   "metadata": {},
   "source": [
    "# Importing libraries"
   ]
  },
  {
   "cell_type": "code",
   "execution_count": 103,
   "metadata": {},
   "outputs": [],
   "source": [
    "import pandas as pd\n",
    "from scipy.stats import ttest_ind"
   ]
  },
  {
   "cell_type": "markdown",
   "metadata": {},
   "source": [
    "# Importing data files"
   ]
  },
  {
   "cell_type": "code",
   "execution_count": 104,
   "metadata": {},
   "outputs": [],
   "source": [
    "df = pd.read_csv(\"cleaned_datafile.csv\")"
   ]
  },
  {
   "cell_type": "code",
   "execution_count": 105,
   "metadata": {},
   "outputs": [
    {
     "data": {
      "text/html": [
       "<div>\n",
       "<style scoped>\n",
       "    .dataframe tbody tr th:only-of-type {\n",
       "        vertical-align: middle;\n",
       "    }\n",
       "\n",
       "    .dataframe tbody tr th {\n",
       "        vertical-align: top;\n",
       "    }\n",
       "\n",
       "    .dataframe thead th {\n",
       "        text-align: right;\n",
       "    }\n",
       "</style>\n",
       "<table border=\"1\" class=\"dataframe\">\n",
       "  <thead>\n",
       "    <tr style=\"text-align: right;\">\n",
       "      <th></th>\n",
       "      <th>State-Code</th>\n",
       "      <th>Name</th>\n",
       "      <th>TRU</th>\n",
       "      <th>Age-Group</th>\n",
       "      <th>Tot-P</th>\n",
       "      <th>Tot-M</th>\n",
       "      <th>Tot-F</th>\n",
       "      <th>Persons-exactly-1</th>\n",
       "      <th>Males-exactly-1</th>\n",
       "      <th>Females-exactly-1</th>\n",
       "      <th>Persons-exactly-2</th>\n",
       "      <th>Males-exactly-2</th>\n",
       "      <th>Females-exactly-2</th>\n",
       "      <th>Persons-atleast-3</th>\n",
       "      <th>Males-atleast-3</th>\n",
       "      <th>Females-atleast-3</th>\n",
       "    </tr>\n",
       "  </thead>\n",
       "  <tbody>\n",
       "    <tr>\n",
       "      <th>0</th>\n",
       "      <td>0</td>\n",
       "      <td>INDIA</td>\n",
       "      <td>Rural</td>\n",
       "      <td>5-9</td>\n",
       "      <td>93807612</td>\n",
       "      <td>48825259</td>\n",
       "      <td>44982353</td>\n",
       "      <td>84515361</td>\n",
       "      <td>44009879</td>\n",
       "      <td>40505482</td>\n",
       "      <td>8619753</td>\n",
       "      <td>4459004</td>\n",
       "      <td>4160749</td>\n",
       "      <td>672498</td>\n",
       "      <td>356376</td>\n",
       "      <td>316122</td>\n",
       "    </tr>\n",
       "    <tr>\n",
       "      <th>1</th>\n",
       "      <td>0</td>\n",
       "      <td>INDIA</td>\n",
       "      <td>Rural</td>\n",
       "      <td>10-14</td>\n",
       "      <td>96804494</td>\n",
       "      <td>50488158</td>\n",
       "      <td>46316336</td>\n",
       "      <td>75843895</td>\n",
       "      <td>39482164</td>\n",
       "      <td>36361731</td>\n",
       "      <td>17321726</td>\n",
       "      <td>9076421</td>\n",
       "      <td>8245305</td>\n",
       "      <td>3638873</td>\n",
       "      <td>1929573</td>\n",
       "      <td>1709300</td>\n",
       "    </tr>\n",
       "    <tr>\n",
       "      <th>2</th>\n",
       "      <td>0</td>\n",
       "      <td>INDIA</td>\n",
       "      <td>Rural</td>\n",
       "      <td>15-19</td>\n",
       "      <td>83902472</td>\n",
       "      <td>44570557</td>\n",
       "      <td>39331915</td>\n",
       "      <td>59354806</td>\n",
       "      <td>31228261</td>\n",
       "      <td>28126545</td>\n",
       "      <td>17987978</td>\n",
       "      <td>9726204</td>\n",
       "      <td>8261774</td>\n",
       "      <td>6559688</td>\n",
       "      <td>3616092</td>\n",
       "      <td>2943596</td>\n",
       "    </tr>\n",
       "    <tr>\n",
       "      <th>3</th>\n",
       "      <td>0</td>\n",
       "      <td>INDIA</td>\n",
       "      <td>Rural</td>\n",
       "      <td>20-24</td>\n",
       "      <td>73835046</td>\n",
       "      <td>38138662</td>\n",
       "      <td>35696384</td>\n",
       "      <td>51929482</td>\n",
       "      <td>25958518</td>\n",
       "      <td>25970964</td>\n",
       "      <td>15939543</td>\n",
       "      <td>8730193</td>\n",
       "      <td>7209350</td>\n",
       "      <td>5966021</td>\n",
       "      <td>3449951</td>\n",
       "      <td>2516070</td>\n",
       "    </tr>\n",
       "    <tr>\n",
       "      <th>4</th>\n",
       "      <td>0</td>\n",
       "      <td>INDIA</td>\n",
       "      <td>Rural</td>\n",
       "      <td>25-29</td>\n",
       "      <td>66068270</td>\n",
       "      <td>33375989</td>\n",
       "      <td>32692281</td>\n",
       "      <td>48015316</td>\n",
       "      <td>23114804</td>\n",
       "      <td>24900512</td>\n",
       "      <td>13483541</td>\n",
       "      <td>7492507</td>\n",
       "      <td>5991034</td>\n",
       "      <td>4569413</td>\n",
       "      <td>2768678</td>\n",
       "      <td>1800735</td>\n",
       "    </tr>\n",
       "  </tbody>\n",
       "</table>\n",
       "</div>"
      ],
      "text/plain": [
       "   State-Code   Name    TRU Age-Group     Tot-P     Tot-M     Tot-F  \\\n",
       "0           0  INDIA  Rural       5-9  93807612  48825259  44982353   \n",
       "1           0  INDIA  Rural     10-14  96804494  50488158  46316336   \n",
       "2           0  INDIA  Rural     15-19  83902472  44570557  39331915   \n",
       "3           0  INDIA  Rural     20-24  73835046  38138662  35696384   \n",
       "4           0  INDIA  Rural     25-29  66068270  33375989  32692281   \n",
       "\n",
       "   Persons-exactly-1  Males-exactly-1  Females-exactly-1  Persons-exactly-2  \\\n",
       "0           84515361         44009879           40505482            8619753   \n",
       "1           75843895         39482164           36361731           17321726   \n",
       "2           59354806         31228261           28126545           17987978   \n",
       "3           51929482         25958518           25970964           15939543   \n",
       "4           48015316         23114804           24900512           13483541   \n",
       "\n",
       "   Males-exactly-2  Females-exactly-2  Persons-atleast-3  Males-atleast-3  \\\n",
       "0          4459004            4160749             672498           356376   \n",
       "1          9076421            8245305            3638873          1929573   \n",
       "2          9726204            8261774            6559688          3616092   \n",
       "3          8730193            7209350            5966021          3449951   \n",
       "4          7492507            5991034            4569413          2768678   \n",
       "\n",
       "   Females-atleast-3  \n",
       "0             316122  \n",
       "1            1709300  \n",
       "2            2943596  \n",
       "3            2516070  \n",
       "4            1800735  "
      ]
     },
     "execution_count": 105,
     "metadata": {},
     "output_type": "execute_result"
    }
   ],
   "source": [
    "df.head()"
   ]
  },
  {
   "cell_type": "markdown",
   "metadata": {},
   "source": [
    "# Removing irrelevant data and adding column names"
   ]
  },
  {
   "cell_type": "code",
   "execution_count": 106,
   "metadata": {},
   "outputs": [],
   "source": [
    "df = df[(df['TRU']=='Total') & (df['Age-Group']=='Total')]\n",
    "cols = ['State-Code','Name','Tot-M','Tot-F','Males-exactly-1','Females-exactly-1','Males-exactly-2','Females-exactly-2','Males-atleast-3','Females-atleast-3']\n",
    "df = df[cols]"
   ]
  },
  {
   "cell_type": "code",
   "execution_count": 107,
   "metadata": {},
   "outputs": [
    {
     "data": {
      "text/html": [
       "<div>\n",
       "<style scoped>\n",
       "    .dataframe tbody tr th:only-of-type {\n",
       "        vertical-align: middle;\n",
       "    }\n",
       "\n",
       "    .dataframe tbody tr th {\n",
       "        vertical-align: top;\n",
       "    }\n",
       "\n",
       "    .dataframe thead th {\n",
       "        text-align: right;\n",
       "    }\n",
       "</style>\n",
       "<table border=\"1\" class=\"dataframe\">\n",
       "  <thead>\n",
       "    <tr style=\"text-align: right;\">\n",
       "      <th></th>\n",
       "      <th>State-Code</th>\n",
       "      <th>Name</th>\n",
       "      <th>Tot-M</th>\n",
       "      <th>Tot-F</th>\n",
       "      <th>Males-exactly-1</th>\n",
       "      <th>Females-exactly-1</th>\n",
       "      <th>Males-exactly-2</th>\n",
       "      <th>Females-exactly-2</th>\n",
       "      <th>Males-atleast-3</th>\n",
       "      <th>Females-atleast-3</th>\n",
       "    </tr>\n",
       "  </thead>\n",
       "  <tbody>\n",
       "    <tr>\n",
       "      <th>18</th>\n",
       "      <td>0</td>\n",
       "      <td>INDIA</td>\n",
       "      <td>623270258</td>\n",
       "      <td>587584719</td>\n",
       "      <td>446573875</td>\n",
       "      <td>449292332</td>\n",
       "      <td>126159551</td>\n",
       "      <td>102819639</td>\n",
       "      <td>50536832</td>\n",
       "      <td>35472748</td>\n",
       "    </tr>\n",
       "    <tr>\n",
       "      <th>48</th>\n",
       "      <td>1</td>\n",
       "      <td>JAMMU &amp; KASHMIR</td>\n",
       "      <td>6640662</td>\n",
       "      <td>5900640</td>\n",
       "      <td>3005843</td>\n",
       "      <td>3352269</td>\n",
       "      <td>2376063</td>\n",
       "      <td>1710907</td>\n",
       "      <td>1258756</td>\n",
       "      <td>837464</td>\n",
       "    </tr>\n",
       "    <tr>\n",
       "      <th>78</th>\n",
       "      <td>2</td>\n",
       "      <td>HIMACHAL PRADESH</td>\n",
       "      <td>3481873</td>\n",
       "      <td>3382729</td>\n",
       "      <td>2797907</td>\n",
       "      <td>2823990</td>\n",
       "      <td>483488</td>\n",
       "      <td>411931</td>\n",
       "      <td>200478</td>\n",
       "      <td>146808</td>\n",
       "    </tr>\n",
       "    <tr>\n",
       "      <th>108</th>\n",
       "      <td>3</td>\n",
       "      <td>PUNJAB</td>\n",
       "      <td>14639465</td>\n",
       "      <td>13103873</td>\n",
       "      <td>7355282</td>\n",
       "      <td>7352832</td>\n",
       "      <td>2900342</td>\n",
       "      <td>2304969</td>\n",
       "      <td>4383841</td>\n",
       "      <td>3446072</td>\n",
       "    </tr>\n",
       "    <tr>\n",
       "      <th>138</th>\n",
       "      <td>4</td>\n",
       "      <td>CHANDIGARH</td>\n",
       "      <td>580663</td>\n",
       "      <td>474787</td>\n",
       "      <td>257765</td>\n",
       "      <td>217765</td>\n",
       "      <td>144341</td>\n",
       "      <td>113600</td>\n",
       "      <td>178557</td>\n",
       "      <td>143422</td>\n",
       "    </tr>\n",
       "  </tbody>\n",
       "</table>\n",
       "</div>"
      ],
      "text/plain": [
       "     State-Code              Name      Tot-M      Tot-F  Males-exactly-1  \\\n",
       "18            0             INDIA  623270258  587584719        446573875   \n",
       "48            1   JAMMU & KASHMIR    6640662    5900640          3005843   \n",
       "78            2  HIMACHAL PRADESH    3481873    3382729          2797907   \n",
       "108           3            PUNJAB   14639465   13103873          7355282   \n",
       "138           4        CHANDIGARH     580663     474787           257765   \n",
       "\n",
       "     Females-exactly-1  Males-exactly-2  Females-exactly-2  Males-atleast-3  \\\n",
       "18           449292332        126159551          102819639         50536832   \n",
       "48             3352269          2376063            1710907          1258756   \n",
       "78             2823990           483488             411931           200478   \n",
       "108            7352832          2900342            2304969          4383841   \n",
       "138             217765           144341             113600           178557   \n",
       "\n",
       "     Females-atleast-3  \n",
       "18            35472748  \n",
       "48              837464  \n",
       "78              146808  \n",
       "108            3446072  \n",
       "138             143422  "
      ]
     },
     "execution_count": 107,
     "metadata": {},
     "output_type": "execute_result"
    }
   ],
   "source": [
    "df.head()"
   ]
  },
  {
   "cell_type": "markdown",
   "metadata": {},
   "source": [
    "# Finding required values"
   ]
  },
  {
   "cell_type": "markdown",
   "metadata": {},
   "source": [
    "## finding required values for people who can speak exactly one language"
   ]
  },
  {
   "cell_type": "code",
   "execution_count": 108,
   "metadata": {},
   "outputs": [],
   "source": [
    "result1 = pd.DataFrame(columns=['state-code','male-percentage','female-percentage','p-value'])\n",
    "result1[['state-code']] = df[['State-Code']]\n",
    "result1['male-percentage'] = (df['Males-exactly-1']/df['Tot-M'])*100\n",
    "result1['female-percentage'] = (df['Females-exactly-1']/df['Tot-F'])*100"
   ]
  },
  {
   "cell_type": "code",
   "execution_count": 109,
   "metadata": {},
   "outputs": [],
   "source": [
    "r1=[]\n",
    "r2=[]\n",
    "for index, row in df.iterrows():\n",
    "    a = row['Males-exactly-1']/row['Females-exactly-1']\n",
    "    b = row['Males-exactly-2']/row['Females-exactly-2']\n",
    "    c = row['Males-atleast-3']/row['Females-atleast-3']\n",
    "    d = row['Tot-M']/row['Tot-F']\n",
    "    r1.append([a,b,c])\n",
    "    r2.append([d,d,d])"
   ]
  },
  {
   "cell_type": "code",
   "execution_count": 110,
   "metadata": {},
   "outputs": [],
   "source": [
    "p_value = []\n",
    "for x,y in zip(r1,r2):\n",
    "    p_value.append(ttest_ind(x,y,equal_var=False).pvalue)"
   ]
  },
  {
   "cell_type": "code",
   "execution_count": 111,
   "metadata": {},
   "outputs": [],
   "source": [
    "result1['p-value'] = p_value"
   ]
  },
  {
   "cell_type": "code",
   "execution_count": 112,
   "metadata": {},
   "outputs": [
    {
     "data": {
      "text/html": [
       "<div>\n",
       "<style scoped>\n",
       "    .dataframe tbody tr th:only-of-type {\n",
       "        vertical-align: middle;\n",
       "    }\n",
       "\n",
       "    .dataframe tbody tr th {\n",
       "        vertical-align: top;\n",
       "    }\n",
       "\n",
       "    .dataframe thead th {\n",
       "        text-align: right;\n",
       "    }\n",
       "</style>\n",
       "<table border=\"1\" class=\"dataframe\">\n",
       "  <thead>\n",
       "    <tr style=\"text-align: right;\">\n",
       "      <th></th>\n",
       "      <th>state-code</th>\n",
       "      <th>male-percentage</th>\n",
       "      <th>female-percentage</th>\n",
       "      <th>p-value</th>\n",
       "    </tr>\n",
       "  </thead>\n",
       "  <tbody>\n",
       "    <tr>\n",
       "      <th>18</th>\n",
       "      <td>0</td>\n",
       "      <td>71.650118</td>\n",
       "      <td>76.464264</td>\n",
       "      <td>0.340433</td>\n",
       "    </tr>\n",
       "    <tr>\n",
       "      <th>48</th>\n",
       "      <td>1</td>\n",
       "      <td>45.264207</td>\n",
       "      <td>56.811956</td>\n",
       "      <td>0.537034</td>\n",
       "    </tr>\n",
       "    <tr>\n",
       "      <th>78</th>\n",
       "      <td>2</td>\n",
       "      <td>80.356377</td>\n",
       "      <td>83.482596</td>\n",
       "      <td>0.306330</td>\n",
       "    </tr>\n",
       "    <tr>\n",
       "      <th>108</th>\n",
       "      <td>3</td>\n",
       "      <td>50.242833</td>\n",
       "      <td>56.111899</td>\n",
       "      <td>0.568812</td>\n",
       "    </tr>\n",
       "    <tr>\n",
       "      <th>138</th>\n",
       "      <td>4</td>\n",
       "      <td>44.391497</td>\n",
       "      <td>45.865830</td>\n",
       "      <td>0.733277</td>\n",
       "    </tr>\n",
       "  </tbody>\n",
       "</table>\n",
       "</div>"
      ],
      "text/plain": [
       "     state-code  male-percentage  female-percentage   p-value\n",
       "18            0        71.650118          76.464264  0.340433\n",
       "48            1        45.264207          56.811956  0.537034\n",
       "78            2        80.356377          83.482596  0.306330\n",
       "108           3        50.242833          56.111899  0.568812\n",
       "138           4        44.391497          45.865830  0.733277"
      ]
     },
     "execution_count": 112,
     "metadata": {},
     "output_type": "execute_result"
    }
   ],
   "source": [
    "result1.head()"
   ]
  },
  {
   "cell_type": "markdown",
   "metadata": {},
   "source": [
    "## finding required values for people who can speak exactly two language"
   ]
  },
  {
   "cell_type": "code",
   "execution_count": 113,
   "metadata": {},
   "outputs": [],
   "source": [
    "result2 = pd.DataFrame(columns=['state-code','male-percentage','female-percentage','p-value'])\n",
    "result2[['state-code']] = df[['State-Code']]\n",
    "result2['male-percentage'] = (df['Males-exactly-2']/df['Tot-M'])*100\n",
    "result2['female-percentage'] = (df['Females-exactly-2']/df['Tot-F'])*100"
   ]
  },
  {
   "cell_type": "code",
   "execution_count": 114,
   "metadata": {},
   "outputs": [],
   "source": [
    "result2['p-value'] = p_value"
   ]
  },
  {
   "cell_type": "code",
   "execution_count": 115,
   "metadata": {},
   "outputs": [
    {
     "data": {
      "text/html": [
       "<div>\n",
       "<style scoped>\n",
       "    .dataframe tbody tr th:only-of-type {\n",
       "        vertical-align: middle;\n",
       "    }\n",
       "\n",
       "    .dataframe tbody tr th {\n",
       "        vertical-align: top;\n",
       "    }\n",
       "\n",
       "    .dataframe thead th {\n",
       "        text-align: right;\n",
       "    }\n",
       "</style>\n",
       "<table border=\"1\" class=\"dataframe\">\n",
       "  <thead>\n",
       "    <tr style=\"text-align: right;\">\n",
       "      <th></th>\n",
       "      <th>state-code</th>\n",
       "      <th>male-percentage</th>\n",
       "      <th>female-percentage</th>\n",
       "      <th>p-value</th>\n",
       "    </tr>\n",
       "  </thead>\n",
       "  <tbody>\n",
       "    <tr>\n",
       "      <th>18</th>\n",
       "      <td>0</td>\n",
       "      <td>20.241548</td>\n",
       "      <td>17.498692</td>\n",
       "      <td>0.340433</td>\n",
       "    </tr>\n",
       "    <tr>\n",
       "      <th>48</th>\n",
       "      <td>1</td>\n",
       "      <td>35.780514</td>\n",
       "      <td>28.995278</td>\n",
       "      <td>0.537034</td>\n",
       "    </tr>\n",
       "    <tr>\n",
       "      <th>78</th>\n",
       "      <td>2</td>\n",
       "      <td>13.885860</td>\n",
       "      <td>12.177476</td>\n",
       "      <td>0.306330</td>\n",
       "    </tr>\n",
       "    <tr>\n",
       "      <th>108</th>\n",
       "      <td>3</td>\n",
       "      <td>19.811803</td>\n",
       "      <td>17.589983</td>\n",
       "      <td>0.568812</td>\n",
       "    </tr>\n",
       "    <tr>\n",
       "      <th>138</th>\n",
       "      <td>4</td>\n",
       "      <td>24.857964</td>\n",
       "      <td>23.926519</td>\n",
       "      <td>0.733277</td>\n",
       "    </tr>\n",
       "  </tbody>\n",
       "</table>\n",
       "</div>"
      ],
      "text/plain": [
       "     state-code  male-percentage  female-percentage   p-value\n",
       "18            0        20.241548          17.498692  0.340433\n",
       "48            1        35.780514          28.995278  0.537034\n",
       "78            2        13.885860          12.177476  0.306330\n",
       "108           3        19.811803          17.589983  0.568812\n",
       "138           4        24.857964          23.926519  0.733277"
      ]
     },
     "execution_count": 115,
     "metadata": {},
     "output_type": "execute_result"
    }
   ],
   "source": [
    "result2.head()"
   ]
  },
  {
   "cell_type": "markdown",
   "metadata": {},
   "source": [
    "## finding required values for people who can speak at least 3 languages"
   ]
  },
  {
   "cell_type": "code",
   "execution_count": 116,
   "metadata": {},
   "outputs": [],
   "source": [
    "result3 = pd.DataFrame(columns=['state-code','male-percentage','female-percentage','p-value'])\n",
    "result3[['state-code']] = df[['State-Code']]\n",
    "result3['male-percentage'] = (df['Males-atleast-3']/df['Tot-M'])*100\n",
    "result3['female-percentage'] = (df['Females-atleast-3']/df['Tot-F'])*100"
   ]
  },
  {
   "cell_type": "code",
   "execution_count": 117,
   "metadata": {},
   "outputs": [],
   "source": [
    "result3['p-value'] = p_value"
   ]
  },
  {
   "cell_type": "code",
   "execution_count": 118,
   "metadata": {},
   "outputs": [
    {
     "data": {
      "text/html": [
       "<div>\n",
       "<style scoped>\n",
       "    .dataframe tbody tr th:only-of-type {\n",
       "        vertical-align: middle;\n",
       "    }\n",
       "\n",
       "    .dataframe tbody tr th {\n",
       "        vertical-align: top;\n",
       "    }\n",
       "\n",
       "    .dataframe thead th {\n",
       "        text-align: right;\n",
       "    }\n",
       "</style>\n",
       "<table border=\"1\" class=\"dataframe\">\n",
       "  <thead>\n",
       "    <tr style=\"text-align: right;\">\n",
       "      <th></th>\n",
       "      <th>state-code</th>\n",
       "      <th>male-percentage</th>\n",
       "      <th>female-percentage</th>\n",
       "      <th>p-value</th>\n",
       "    </tr>\n",
       "  </thead>\n",
       "  <tbody>\n",
       "    <tr>\n",
       "      <th>18</th>\n",
       "      <td>0</td>\n",
       "      <td>8.108334</td>\n",
       "      <td>6.037044</td>\n",
       "      <td>0.340433</td>\n",
       "    </tr>\n",
       "    <tr>\n",
       "      <th>48</th>\n",
       "      <td>1</td>\n",
       "      <td>18.955279</td>\n",
       "      <td>14.192766</td>\n",
       "      <td>0.537034</td>\n",
       "    </tr>\n",
       "    <tr>\n",
       "      <th>78</th>\n",
       "      <td>2</td>\n",
       "      <td>5.757763</td>\n",
       "      <td>4.339928</td>\n",
       "      <td>0.306330</td>\n",
       "    </tr>\n",
       "    <tr>\n",
       "      <th>108</th>\n",
       "      <td>3</td>\n",
       "      <td>29.945363</td>\n",
       "      <td>26.298118</td>\n",
       "      <td>0.568812</td>\n",
       "    </tr>\n",
       "    <tr>\n",
       "      <th>138</th>\n",
       "      <td>4</td>\n",
       "      <td>30.750539</td>\n",
       "      <td>30.207651</td>\n",
       "      <td>0.733277</td>\n",
       "    </tr>\n",
       "  </tbody>\n",
       "</table>\n",
       "</div>"
      ],
      "text/plain": [
       "     state-code  male-percentage  female-percentage   p-value\n",
       "18            0         8.108334           6.037044  0.340433\n",
       "48            1        18.955279          14.192766  0.537034\n",
       "78            2         5.757763           4.339928  0.306330\n",
       "108           3        29.945363          26.298118  0.568812\n",
       "138           4        30.750539          30.207651  0.733277"
      ]
     },
     "execution_count": 118,
     "metadata": {},
     "output_type": "execute_result"
    }
   ],
   "source": [
    "result3.head()"
   ]
  },
  {
   "cell_type": "code",
   "execution_count": 119,
   "metadata": {},
   "outputs": [],
   "source": [
    "result1.to_csv(\"gender-india-a.csv\",index = False)\n",
    "result2.to_csv(\"gender-india-b.csv\",index = False)\n",
    "result3.to_csv(\"gender-india-c.csv\",index = False)"
   ]
  }
 ],
 "metadata": {
  "interpreter": {
   "hash": "ac59ebe37160ed0dfa835113d9b8498d9f09ceb179beaac4002f036b9467c963"
  },
  "kernelspec": {
   "display_name": "Python 3.9.6 64-bit",
   "name": "python3"
  },
  "language_info": {
   "codemirror_mode": {
    "name": "ipython",
    "version": 3
   },
   "file_extension": ".py",
   "mimetype": "text/x-python",
   "name": "python",
   "nbconvert_exporter": "python",
   "pygments_lexer": "ipython3",
   "version": "3.8.8"
  },
  "orig_nbformat": 4
 },
 "nbformat": 4,
 "nbformat_minor": 2
}
