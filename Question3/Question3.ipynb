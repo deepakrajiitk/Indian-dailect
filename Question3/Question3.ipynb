{
 "cells": [
  {
   "cell_type": "markdown",
   "metadata": {},
   "source": [
    "# Importing libraries"
   ]
  },
  {
   "cell_type": "code",
   "execution_count": 111,
   "metadata": {},
   "outputs": [],
   "source": [
    "import pandas as pd\n",
    "from scipy.stats import ttest_ind"
   ]
  },
  {
   "cell_type": "markdown",
   "metadata": {},
   "source": [
    "# Importing datasets"
   ]
  },
  {
   "cell_type": "code",
   "execution_count": 112,
   "metadata": {},
   "outputs": [],
   "source": [
    "df = pd.read_csv(\"cleaned_datafile.csv\")"
   ]
  },
  {
   "cell_type": "code",
   "execution_count": 113,
   "metadata": {},
   "outputs": [
    {
     "data": {
      "text/html": [
       "<div>\n",
       "<style scoped>\n",
       "    .dataframe tbody tr th:only-of-type {\n",
       "        vertical-align: middle;\n",
       "    }\n",
       "\n",
       "    .dataframe tbody tr th {\n",
       "        vertical-align: top;\n",
       "    }\n",
       "\n",
       "    .dataframe thead th {\n",
       "        text-align: right;\n",
       "    }\n",
       "</style>\n",
       "<table border=\"1\" class=\"dataframe\">\n",
       "  <thead>\n",
       "    <tr style=\"text-align: right;\">\n",
       "      <th></th>\n",
       "      <th>State-Code</th>\n",
       "      <th>Name</th>\n",
       "      <th>TRU</th>\n",
       "      <th>Age-Group</th>\n",
       "      <th>Tot-P</th>\n",
       "      <th>Tot-M</th>\n",
       "      <th>Tot-F</th>\n",
       "      <th>Persons-exactly-1</th>\n",
       "      <th>Males-exactly-1</th>\n",
       "      <th>Females-exactly-1</th>\n",
       "      <th>Persons-exactly-2</th>\n",
       "      <th>Males-exactly-2</th>\n",
       "      <th>Females-exactly-2</th>\n",
       "      <th>Persons-atleast-3</th>\n",
       "      <th>Males-atleast-3</th>\n",
       "      <th>Females-atleast-3</th>\n",
       "    </tr>\n",
       "  </thead>\n",
       "  <tbody>\n",
       "    <tr>\n",
       "      <th>0</th>\n",
       "      <td>0</td>\n",
       "      <td>INDIA</td>\n",
       "      <td>Rural</td>\n",
       "      <td>5-9</td>\n",
       "      <td>93807612</td>\n",
       "      <td>48825259</td>\n",
       "      <td>44982353</td>\n",
       "      <td>84515361</td>\n",
       "      <td>44009879</td>\n",
       "      <td>40505482</td>\n",
       "      <td>8619753</td>\n",
       "      <td>4459004</td>\n",
       "      <td>4160749</td>\n",
       "      <td>672498</td>\n",
       "      <td>356376</td>\n",
       "      <td>316122</td>\n",
       "    </tr>\n",
       "    <tr>\n",
       "      <th>1</th>\n",
       "      <td>0</td>\n",
       "      <td>INDIA</td>\n",
       "      <td>Rural</td>\n",
       "      <td>10-14</td>\n",
       "      <td>96804494</td>\n",
       "      <td>50488158</td>\n",
       "      <td>46316336</td>\n",
       "      <td>75843895</td>\n",
       "      <td>39482164</td>\n",
       "      <td>36361731</td>\n",
       "      <td>17321726</td>\n",
       "      <td>9076421</td>\n",
       "      <td>8245305</td>\n",
       "      <td>3638873</td>\n",
       "      <td>1929573</td>\n",
       "      <td>1709300</td>\n",
       "    </tr>\n",
       "    <tr>\n",
       "      <th>2</th>\n",
       "      <td>0</td>\n",
       "      <td>INDIA</td>\n",
       "      <td>Rural</td>\n",
       "      <td>15-19</td>\n",
       "      <td>83902472</td>\n",
       "      <td>44570557</td>\n",
       "      <td>39331915</td>\n",
       "      <td>59354806</td>\n",
       "      <td>31228261</td>\n",
       "      <td>28126545</td>\n",
       "      <td>17987978</td>\n",
       "      <td>9726204</td>\n",
       "      <td>8261774</td>\n",
       "      <td>6559688</td>\n",
       "      <td>3616092</td>\n",
       "      <td>2943596</td>\n",
       "    </tr>\n",
       "    <tr>\n",
       "      <th>3</th>\n",
       "      <td>0</td>\n",
       "      <td>INDIA</td>\n",
       "      <td>Rural</td>\n",
       "      <td>20-24</td>\n",
       "      <td>73835046</td>\n",
       "      <td>38138662</td>\n",
       "      <td>35696384</td>\n",
       "      <td>51929482</td>\n",
       "      <td>25958518</td>\n",
       "      <td>25970964</td>\n",
       "      <td>15939543</td>\n",
       "      <td>8730193</td>\n",
       "      <td>7209350</td>\n",
       "      <td>5966021</td>\n",
       "      <td>3449951</td>\n",
       "      <td>2516070</td>\n",
       "    </tr>\n",
       "    <tr>\n",
       "      <th>4</th>\n",
       "      <td>0</td>\n",
       "      <td>INDIA</td>\n",
       "      <td>Rural</td>\n",
       "      <td>25-29</td>\n",
       "      <td>66068270</td>\n",
       "      <td>33375989</td>\n",
       "      <td>32692281</td>\n",
       "      <td>48015316</td>\n",
       "      <td>23114804</td>\n",
       "      <td>24900512</td>\n",
       "      <td>13483541</td>\n",
       "      <td>7492507</td>\n",
       "      <td>5991034</td>\n",
       "      <td>4569413</td>\n",
       "      <td>2768678</td>\n",
       "      <td>1800735</td>\n",
       "    </tr>\n",
       "  </tbody>\n",
       "</table>\n",
       "</div>"
      ],
      "text/plain": [
       "   State-Code   Name    TRU Age-Group     Tot-P     Tot-M     Tot-F  \\\n",
       "0           0  INDIA  Rural       5-9  93807612  48825259  44982353   \n",
       "1           0  INDIA  Rural     10-14  96804494  50488158  46316336   \n",
       "2           0  INDIA  Rural     15-19  83902472  44570557  39331915   \n",
       "3           0  INDIA  Rural     20-24  73835046  38138662  35696384   \n",
       "4           0  INDIA  Rural     25-29  66068270  33375989  32692281   \n",
       "\n",
       "   Persons-exactly-1  Males-exactly-1  Females-exactly-1  Persons-exactly-2  \\\n",
       "0           84515361         44009879           40505482            8619753   \n",
       "1           75843895         39482164           36361731           17321726   \n",
       "2           59354806         31228261           28126545           17987978   \n",
       "3           51929482         25958518           25970964           15939543   \n",
       "4           48015316         23114804           24900512           13483541   \n",
       "\n",
       "   Males-exactly-2  Females-exactly-2  Persons-atleast-3  Males-atleast-3  \\\n",
       "0          4459004            4160749             672498           356376   \n",
       "1          9076421            8245305            3638873          1929573   \n",
       "2          9726204            8261774            6559688          3616092   \n",
       "3          8730193            7209350            5966021          3449951   \n",
       "4          7492507            5991034            4569413          2768678   \n",
       "\n",
       "   Females-atleast-3  \n",
       "0             316122  \n",
       "1            1709300  \n",
       "2            2943596  \n",
       "3            2516070  \n",
       "4            1800735  "
      ]
     },
     "execution_count": 113,
     "metadata": {},
     "output_type": "execute_result"
    }
   ],
   "source": [
    "df.head()"
   ]
  },
  {
   "cell_type": "markdown",
   "metadata": {},
   "source": [
    "# Dropping irrelevant rows and columns"
   ]
  },
  {
   "cell_type": "code",
   "execution_count": 114,
   "metadata": {},
   "outputs": [],
   "source": [
    "df = df[(df['Age-Group']=='Total')]\n",
    "cols = ['State-Code','TRU','Tot-P','Persons-exactly-1','Persons-exactly-2','Persons-atleast-3']\n",
    "df = df[cols]"
   ]
  },
  {
   "cell_type": "code",
   "execution_count": 115,
   "metadata": {},
   "outputs": [
    {
     "data": {
      "text/html": [
       "<div>\n",
       "<style scoped>\n",
       "    .dataframe tbody tr th:only-of-type {\n",
       "        vertical-align: middle;\n",
       "    }\n",
       "\n",
       "    .dataframe tbody tr th {\n",
       "        vertical-align: top;\n",
       "    }\n",
       "\n",
       "    .dataframe thead th {\n",
       "        text-align: right;\n",
       "    }\n",
       "</style>\n",
       "<table border=\"1\" class=\"dataframe\">\n",
       "  <thead>\n",
       "    <tr style=\"text-align: right;\">\n",
       "      <th></th>\n",
       "      <th>State-Code</th>\n",
       "      <th>TRU</th>\n",
       "      <th>Tot-P</th>\n",
       "      <th>Persons-exactly-1</th>\n",
       "      <th>Persons-exactly-2</th>\n",
       "      <th>Persons-atleast-3</th>\n",
       "    </tr>\n",
       "  </thead>\n",
       "  <tbody>\n",
       "    <tr>\n",
       "      <th>8</th>\n",
       "      <td>0</td>\n",
       "      <td>Rural</td>\n",
       "      <td>833748852</td>\n",
       "      <td>671107367</td>\n",
       "      <td>127257496</td>\n",
       "      <td>35383989</td>\n",
       "    </tr>\n",
       "    <tr>\n",
       "      <th>18</th>\n",
       "      <td>0</td>\n",
       "      <td>Total</td>\n",
       "      <td>1210854977</td>\n",
       "      <td>895866207</td>\n",
       "      <td>228979190</td>\n",
       "      <td>86009580</td>\n",
       "    </tr>\n",
       "    <tr>\n",
       "      <th>28</th>\n",
       "      <td>0</td>\n",
       "      <td>Urban</td>\n",
       "      <td>377106125</td>\n",
       "      <td>224758840</td>\n",
       "      <td>101721694</td>\n",
       "      <td>50625591</td>\n",
       "    </tr>\n",
       "    <tr>\n",
       "      <th>38</th>\n",
       "      <td>1</td>\n",
       "      <td>Rural</td>\n",
       "      <td>9108060</td>\n",
       "      <td>4940822</td>\n",
       "      <td>2908514</td>\n",
       "      <td>1258724</td>\n",
       "    </tr>\n",
       "    <tr>\n",
       "      <th>48</th>\n",
       "      <td>1</td>\n",
       "      <td>Total</td>\n",
       "      <td>12541302</td>\n",
       "      <td>6358112</td>\n",
       "      <td>4086970</td>\n",
       "      <td>2096220</td>\n",
       "    </tr>\n",
       "  </tbody>\n",
       "</table>\n",
       "</div>"
      ],
      "text/plain": [
       "    State-Code    TRU       Tot-P  Persons-exactly-1  Persons-exactly-2  \\\n",
       "8            0  Rural   833748852          671107367          127257496   \n",
       "18           0  Total  1210854977          895866207          228979190   \n",
       "28           0  Urban   377106125          224758840          101721694   \n",
       "38           1  Rural     9108060            4940822            2908514   \n",
       "48           1  Total    12541302            6358112            4086970   \n",
       "\n",
       "    Persons-atleast-3  \n",
       "8            35383989  \n",
       "18           86009580  \n",
       "28           50625591  \n",
       "38            1258724  \n",
       "48            2096220  "
      ]
     },
     "execution_count": 115,
     "metadata": {},
     "output_type": "execute_result"
    }
   ],
   "source": [
    "df.head()"
   ]
  },
  {
   "cell_type": "code",
   "execution_count": 116,
   "metadata": {},
   "outputs": [],
   "source": [
    "df_rural = df[df['TRU']=='Rural'].reset_index(drop = True)\n",
    "df_urban = df[df['TRU']=='Urban'].reset_index(drop = True)"
   ]
  },
  {
   "cell_type": "markdown",
   "metadata": {},
   "source": [
    "## finding results for people who can speak exactly one language"
   ]
  },
  {
   "cell_type": "code",
   "execution_count": 117,
   "metadata": {},
   "outputs": [],
   "source": [
    "result1 = pd.DataFrame(columns=['state-code','urban-percentage','rural-percentage','p-value'])\n",
    "result1[['state-code']] = df_rural[['State-Code']]\n",
    "result1['urban-percentage'] = (df_urban['Persons-exactly-1']/df_urban['Tot-P'])*100\n",
    "result1['rural-percentage'] = (df_rural['Persons-exactly-1']/df_rural['Tot-P'])*100"
   ]
  },
  {
   "cell_type": "code",
   "execution_count": 118,
   "metadata": {},
   "outputs": [],
   "source": [
    "r1=[]\n",
    "r2=[]\n",
    "for i in range(36):\n",
    "    a = df_rural.iloc[i]['Persons-exactly-1']/df_urban.iloc[i]['Persons-exactly-1']\n",
    "    b = df_rural.iloc[i]['Persons-exactly-2']/df_urban.iloc[i]['Persons-exactly-2']\n",
    "    c = df_rural.iloc[i]['Persons-atleast-3']/df_urban.iloc[i]['Persons-atleast-3']\n",
    "    d = df_rural.iloc[i]['Tot-P']/df_urban.iloc[i]['Tot-P']\n",
    "    r1.append([a,b,c])\n",
    "    r2.append([d,d,d])"
   ]
  },
  {
   "cell_type": "code",
   "execution_count": 119,
   "metadata": {},
   "outputs": [],
   "source": [
    "p_value = []\n",
    "for x,y in zip(r1,r2):\n",
    "    p_value.append(ttest_ind(x,y,equal_var=False).pvalue)"
   ]
  },
  {
   "cell_type": "code",
   "execution_count": 120,
   "metadata": {},
   "outputs": [],
   "source": [
    "result1['p-value'] = p_value"
   ]
  },
  {
   "cell_type": "code",
   "execution_count": 121,
   "metadata": {},
   "outputs": [
    {
     "data": {
      "text/html": [
       "<div>\n",
       "<style scoped>\n",
       "    .dataframe tbody tr th:only-of-type {\n",
       "        vertical-align: middle;\n",
       "    }\n",
       "\n",
       "    .dataframe tbody tr th {\n",
       "        vertical-align: top;\n",
       "    }\n",
       "\n",
       "    .dataframe thead th {\n",
       "        text-align: right;\n",
       "    }\n",
       "</style>\n",
       "<table border=\"1\" class=\"dataframe\">\n",
       "  <thead>\n",
       "    <tr style=\"text-align: right;\">\n",
       "      <th></th>\n",
       "      <th>state-code</th>\n",
       "      <th>urban-percentage</th>\n",
       "      <th>rural-percentage</th>\n",
       "      <th>p-value</th>\n",
       "    </tr>\n",
       "  </thead>\n",
       "  <tbody>\n",
       "    <tr>\n",
       "      <th>0</th>\n",
       "      <td>0</td>\n",
       "      <td>59.600952</td>\n",
       "      <td>80.492749</td>\n",
       "      <td>0.497962</td>\n",
       "    </tr>\n",
       "    <tr>\n",
       "      <th>1</th>\n",
       "      <td>1</td>\n",
       "      <td>41.281389</td>\n",
       "      <td>54.246700</td>\n",
       "      <td>0.797784</td>\n",
       "    </tr>\n",
       "    <tr>\n",
       "      <th>2</th>\n",
       "      <td>2</td>\n",
       "      <td>62.067208</td>\n",
       "      <td>84.107674</td>\n",
       "      <td>0.489782</td>\n",
       "    </tr>\n",
       "    <tr>\n",
       "      <th>3</th>\n",
       "      <td>3</td>\n",
       "      <td>42.764108</td>\n",
       "      <td>59.161084</td>\n",
       "      <td>0.807854</td>\n",
       "    </tr>\n",
       "    <tr>\n",
       "      <th>4</th>\n",
       "      <td>4</td>\n",
       "      <td>44.644940</td>\n",
       "      <td>59.563313</td>\n",
       "      <td>0.869329</td>\n",
       "    </tr>\n",
       "  </tbody>\n",
       "</table>\n",
       "</div>"
      ],
      "text/plain": [
       "   state-code  urban-percentage  rural-percentage   p-value\n",
       "0           0         59.600952         80.492749  0.497962\n",
       "1           1         41.281389         54.246700  0.797784\n",
       "2           2         62.067208         84.107674  0.489782\n",
       "3           3         42.764108         59.161084  0.807854\n",
       "4           4         44.644940         59.563313  0.869329"
      ]
     },
     "execution_count": 121,
     "metadata": {},
     "output_type": "execute_result"
    }
   ],
   "source": [
    "result1.head()"
   ]
  },
  {
   "cell_type": "markdown",
   "metadata": {},
   "source": [
    "## finding results for people who can speak exactly two language"
   ]
  },
  {
   "cell_type": "code",
   "execution_count": 122,
   "metadata": {},
   "outputs": [],
   "source": [
    "result2 = pd.DataFrame(columns=['state-code','urban-percentage','rural-percentage','p-value'])\n",
    "result2[['state-code']] = df_rural[['State-Code']]\n",
    "result2['urban-percentage'] = (df_urban['Persons-exactly-2']/df_urban['Tot-P'])*100\n",
    "result2['rural-percentage'] = (df_rural['Persons-exactly-2']/df_rural['Tot-P'])*100\n",
    "result2['p-value'] = p_value"
   ]
  },
  {
   "cell_type": "code",
   "execution_count": 123,
   "metadata": {},
   "outputs": [
    {
     "data": {
      "text/html": [
       "<div>\n",
       "<style scoped>\n",
       "    .dataframe tbody tr th:only-of-type {\n",
       "        vertical-align: middle;\n",
       "    }\n",
       "\n",
       "    .dataframe tbody tr th {\n",
       "        vertical-align: top;\n",
       "    }\n",
       "\n",
       "    .dataframe thead th {\n",
       "        text-align: right;\n",
       "    }\n",
       "</style>\n",
       "<table border=\"1\" class=\"dataframe\">\n",
       "  <thead>\n",
       "    <tr style=\"text-align: right;\">\n",
       "      <th></th>\n",
       "      <th>state-code</th>\n",
       "      <th>urban-percentage</th>\n",
       "      <th>rural-percentage</th>\n",
       "      <th>p-value</th>\n",
       "    </tr>\n",
       "  </thead>\n",
       "  <tbody>\n",
       "    <tr>\n",
       "      <th>0</th>\n",
       "      <td>0</td>\n",
       "      <td>26.974288</td>\n",
       "      <td>15.263289</td>\n",
       "      <td>0.497962</td>\n",
       "    </tr>\n",
       "    <tr>\n",
       "      <th>1</th>\n",
       "      <td>1</td>\n",
       "      <td>34.324874</td>\n",
       "      <td>31.933408</td>\n",
       "      <td>0.797784</td>\n",
       "    </tr>\n",
       "    <tr>\n",
       "      <th>2</th>\n",
       "      <td>2</td>\n",
       "      <td>28.279346</td>\n",
       "      <td>11.345455</td>\n",
       "      <td>0.489782</td>\n",
       "    </tr>\n",
       "    <tr>\n",
       "      <th>3</th>\n",
       "      <td>3</td>\n",
       "      <td>22.626868</td>\n",
       "      <td>16.445332</td>\n",
       "      <td>0.807854</td>\n",
       "    </tr>\n",
       "    <tr>\n",
       "      <th>4</th>\n",
       "      <td>4</td>\n",
       "      <td>24.411204</td>\n",
       "      <td>25.421683</td>\n",
       "      <td>0.869329</td>\n",
       "    </tr>\n",
       "  </tbody>\n",
       "</table>\n",
       "</div>"
      ],
      "text/plain": [
       "   state-code  urban-percentage  rural-percentage   p-value\n",
       "0           0         26.974288         15.263289  0.497962\n",
       "1           1         34.324874         31.933408  0.797784\n",
       "2           2         28.279346         11.345455  0.489782\n",
       "3           3         22.626868         16.445332  0.807854\n",
       "4           4         24.411204         25.421683  0.869329"
      ]
     },
     "execution_count": 123,
     "metadata": {},
     "output_type": "execute_result"
    }
   ],
   "source": [
    "result2.head()"
   ]
  },
  {
   "cell_type": "markdown",
   "metadata": {},
   "source": [
    "## finding results for people who can speak atleast 3 language"
   ]
  },
  {
   "cell_type": "code",
   "execution_count": 124,
   "metadata": {},
   "outputs": [],
   "source": [
    "result3 = pd.DataFrame(columns=['state-code','urban-percentage','rural-percentage','p-value'])\n",
    "result3[['state-code']] = df_rural[['State-Code']]\n",
    "result3['urban-percentage'] = (df_urban['Persons-atleast-3']/df_urban['Tot-P'])*100\n",
    "result3['rural-percentage'] = (df_rural['Persons-atleast-3']/df_rural['Tot-P'])*100\n",
    "result3['p-value'] = p_value"
   ]
  },
  {
   "cell_type": "code",
   "execution_count": 125,
   "metadata": {},
   "outputs": [
    {
     "data": {
      "text/html": [
       "<div>\n",
       "<style scoped>\n",
       "    .dataframe tbody tr th:only-of-type {\n",
       "        vertical-align: middle;\n",
       "    }\n",
       "\n",
       "    .dataframe tbody tr th {\n",
       "        vertical-align: top;\n",
       "    }\n",
       "\n",
       "    .dataframe thead th {\n",
       "        text-align: right;\n",
       "    }\n",
       "</style>\n",
       "<table border=\"1\" class=\"dataframe\">\n",
       "  <thead>\n",
       "    <tr style=\"text-align: right;\">\n",
       "      <th></th>\n",
       "      <th>state-code</th>\n",
       "      <th>urban-percentage</th>\n",
       "      <th>rural-percentage</th>\n",
       "      <th>p-value</th>\n",
       "    </tr>\n",
       "  </thead>\n",
       "  <tbody>\n",
       "    <tr>\n",
       "      <th>0</th>\n",
       "      <td>0</td>\n",
       "      <td>13.424760</td>\n",
       "      <td>4.243963</td>\n",
       "      <td>0.497962</td>\n",
       "    </tr>\n",
       "    <tr>\n",
       "      <th>1</th>\n",
       "      <td>1</td>\n",
       "      <td>24.393736</td>\n",
       "      <td>13.819891</td>\n",
       "      <td>0.797784</td>\n",
       "    </tr>\n",
       "    <tr>\n",
       "      <th>2</th>\n",
       "      <td>2</td>\n",
       "      <td>9.653447</td>\n",
       "      <td>4.546871</td>\n",
       "      <td>0.489782</td>\n",
       "    </tr>\n",
       "    <tr>\n",
       "      <th>3</th>\n",
       "      <td>3</td>\n",
       "      <td>34.609025</td>\n",
       "      <td>24.393584</td>\n",
       "      <td>0.807854</td>\n",
       "    </tr>\n",
       "    <tr>\n",
       "      <th>4</th>\n",
       "      <td>4</td>\n",
       "      <td>30.943857</td>\n",
       "      <td>15.015005</td>\n",
       "      <td>0.869329</td>\n",
       "    </tr>\n",
       "  </tbody>\n",
       "</table>\n",
       "</div>"
      ],
      "text/plain": [
       "   state-code  urban-percentage  rural-percentage   p-value\n",
       "0           0         13.424760          4.243963  0.497962\n",
       "1           1         24.393736         13.819891  0.797784\n",
       "2           2          9.653447          4.546871  0.489782\n",
       "3           3         34.609025         24.393584  0.807854\n",
       "4           4         30.943857         15.015005  0.869329"
      ]
     },
     "execution_count": 125,
     "metadata": {},
     "output_type": "execute_result"
    }
   ],
   "source": [
    "result3.head()"
   ]
  },
  {
   "cell_type": "code",
   "execution_count": 126,
   "metadata": {},
   "outputs": [],
   "source": [
    "result1.to_csv(\"geography-india-a.csv\",index = False)\n",
    "result2.to_csv(\"geography-india-b.csv\",index = False)\n",
    "result3.to_csv(\"geography-india-c.csv\",index = False)"
   ]
  }
 ],
 "metadata": {
  "interpreter": {
   "hash": "ac59ebe37160ed0dfa835113d9b8498d9f09ceb179beaac4002f036b9467c963"
  },
  "kernelspec": {
   "display_name": "Python 3.9.6 64-bit",
   "name": "python3"
  },
  "language_info": {
   "codemirror_mode": {
    "name": "ipython",
    "version": 3
   },
   "file_extension": ".py",
   "mimetype": "text/x-python",
   "name": "python",
   "nbconvert_exporter": "python",
   "pygments_lexer": "ipython3",
   "version": "3.8.8"
  },
  "orig_nbformat": 4
 },
 "nbformat": 4,
 "nbformat_minor": 2
}
